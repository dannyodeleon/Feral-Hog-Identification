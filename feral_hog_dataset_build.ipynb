{
  "nbformat": 4,
  "nbformat_minor": 0,
  "metadata": {
    "colab": {
      "name": "feral_hog_dataset_build",
      "provenance": [],
      "collapsed_sections": [],
      "mount_file_id": "1G3O60ygfnKW8g3eUOCGJkRlNQbYiVkGk",
      "authorship_tag": "ABX9TyN8c5Ig0OySZSALIJD1niH5",
      "include_colab_link": true
    },
    "kernelspec": {
      "name": "python3",
      "display_name": "Python 3"
    }
  },
  "cells": [
    {
      "cell_type": "markdown",
      "metadata": {
        "id": "view-in-github",
        "colab_type": "text"
      },
      "source": [
        "<a href=\"https://colab.research.google.com/github/dannyodeleon/Feral-Hog-Identification/blob/main/feral_hog_dataset_build.ipynb\" target=\"_parent\"><img src=\"https://colab.research.google.com/assets/colab-badge.svg\" alt=\"Open In Colab\"/></a>"
      ]
    },
    {
      "cell_type": "code",
      "metadata": {
        "colab": {
          "base_uri": "https://localhost:8080/"
        },
        "id": "Nj4vuOXSwz7p",
        "outputId": "6b38af68-81d4-4ca3-9fd3-957792d132f7"
      },
      "source": [
        "import pandas as pd\n",
        "import numpy as np\n",
        "import seaborn as sns\n",
        "import matplotlib.pyplot as plt\n",
        "plt.style.use('ggplot')\n",
        "\n",
        "%matplotlib inline \n",
        "\n",
        "\n",
        "#Mount Google Drive\n",
        "\n",
        "from google.colab import drive\n",
        "drive.mount('/content/gdrive')"
      ],
      "execution_count": 1,
      "outputs": [
        {
          "output_type": "stream",
          "text": [
            "Mounted at /content/gdrive\n"
          ],
          "name": "stdout"
        }
      ]
    },
    {
      "cell_type": "code",
      "metadata": {
        "id": "GipgMOApS1s_"
      },
      "source": [
        "#Simplify the link so that now the path '/content/gdrive/My\\ Drive/' is only '/mydrive'\n",
        "!ln -s /content/gdrive/My\\ Drive/ /mydrive\n",
        "!ls /mydrive"
      ],
      "execution_count": null,
      "outputs": []
    },
    {
      "cell_type": "code",
      "metadata": {
        "colab": {
          "base_uri": "https://localhost:8080/",
          "height": 35
        },
        "id": "hHguquPoS13f",
        "outputId": "c59a1752-85e6-46fc-8b1e-cc0cffeb6d97"
      },
      "source": [
        "%pwd"
      ],
      "execution_count": null,
      "outputs": [
        {
          "output_type": "execute_result",
          "data": {
            "application/vnd.google.colaboratory.intrinsic+json": {
              "type": "string"
            },
            "text/plain": [
              "'/content'"
            ]
          },
          "metadata": {
            "tags": []
          },
          "execution_count": 3
        }
      ]
    },
    {
      "cell_type": "code",
      "metadata": {
        "colab": {
          "base_uri": "https://localhost:8080/"
        },
        "id": "pIejxse3S16l",
        "outputId": "3bae750b-072c-4612-e8a2-d81ed7198167"
      },
      "source": [
        "#Create a custom dataset Google's Open Images with the OIVDv4 Tool Kit\n",
        "\n",
        "!git clone https://github.com/theAIGuysCode/OIDv4_ToolKit.git"
      ],
      "execution_count": null,
      "outputs": [
        {
          "output_type": "stream",
          "text": [
            "Cloning into 'OIDv4_ToolKit'...\n",
            "remote: Enumerating objects: 444, done.\u001b[K\n",
            "remote: Total 444 (delta 0), reused 0 (delta 0), pack-reused 444\u001b[K\n",
            "Receiving objects: 100% (444/444), 34.09 MiB | 10.63 MiB/s, done.\n",
            "Resolving deltas: 100% (157/157), done.\n"
          ],
          "name": "stdout"
        }
      ]
    },
    {
      "cell_type": "code",
      "metadata": {
        "colab": {
          "base_uri": "https://localhost:8080/"
        },
        "id": "MUlZdbFvS1-B",
        "outputId": "7d0458df-a2f3-4ff6-cfc2-6b31d4b57561"
      },
      "source": [
        "!ls"
      ],
      "execution_count": null,
      "outputs": [
        {
          "output_type": "stream",
          "text": [
            "gdrive\tOIDv4_ToolKit  sample_data\n"
          ],
          "name": "stdout"
        }
      ]
    },
    {
      "cell_type": "code",
      "metadata": {
        "colab": {
          "base_uri": "https://localhost:8080/"
        },
        "id": "cPcdghfXVjmV",
        "outputId": "852a1239-17ec-445e-85ea-9c432739b9d4"
      },
      "source": [
        "#Navigate into the OIDv4 Tool Kit\n",
        "\n",
        "%cd OIDv4_ToolKit/"
      ],
      "execution_count": null,
      "outputs": [
        {
          "output_type": "stream",
          "text": [
            "/content/OIDv4_ToolKit\n"
          ],
          "name": "stdout"
        }
      ]
    },
    {
      "cell_type": "code",
      "metadata": {
        "colab": {
          "base_uri": "https://localhost:8080/"
        },
        "id": "RPhmF6t_Vjq5",
        "outputId": "aa388a43-cfb9-419a-dab5-3594f21b967b"
      },
      "source": [
        "#Install all required packages to run OIDv4\n",
        "!pip install -r requirements.txt"
      ],
      "execution_count": null,
      "outputs": [
        {
          "output_type": "stream",
          "text": [
            "Requirement already satisfied: pandas in /usr/local/lib/python3.6/dist-packages (from -r requirements.txt (line 1)) (1.1.5)\n",
            "Requirement already satisfied: numpy in /usr/local/lib/python3.6/dist-packages (from -r requirements.txt (line 2)) (1.19.4)\n",
            "Requirement already satisfied: awscli in /usr/local/lib/python3.6/dist-packages (from -r requirements.txt (line 3)) (1.18.208)\n",
            "Requirement already satisfied: urllib3 in /usr/local/lib/python3.6/dist-packages (from -r requirements.txt (line 4)) (1.24.3)\n",
            "Requirement already satisfied: tqdm in /usr/local/lib/python3.6/dist-packages (from -r requirements.txt (line 5)) (4.41.1)\n",
            "Requirement already satisfied: opencv-python in /usr/local/lib/python3.6/dist-packages (from -r requirements.txt (line 6)) (4.1.2.30)\n",
            "Requirement already satisfied: pytz>=2017.2 in /usr/local/lib/python3.6/dist-packages (from pandas->-r requirements.txt (line 1)) (2018.9)\n",
            "Requirement already satisfied: python-dateutil>=2.7.3 in /usr/local/lib/python3.6/dist-packages (from pandas->-r requirements.txt (line 1)) (2.8.1)\n",
            "Requirement already satisfied: rsa<=4.5.0,>=3.1.2 in /usr/local/lib/python3.6/dist-packages (from awscli->-r requirements.txt (line 3)) (4.5)\n",
            "Requirement already satisfied: PyYAML<5.4,>=3.10 in /usr/local/lib/python3.6/dist-packages (from awscli->-r requirements.txt (line 3)) (3.13)\n",
            "Requirement already satisfied: s3transfer<0.4.0,>=0.3.0 in /usr/local/lib/python3.6/dist-packages (from awscli->-r requirements.txt (line 3)) (0.3.3)\n",
            "Requirement already satisfied: colorama<0.4.4,>=0.2.5 in /usr/local/lib/python3.6/dist-packages (from awscli->-r requirements.txt (line 3)) (0.4.3)\n",
            "Requirement already satisfied: docutils<0.16,>=0.10 in /usr/local/lib/python3.6/dist-packages (from awscli->-r requirements.txt (line 3)) (0.15.2)\n",
            "Requirement already satisfied: botocore==1.19.48 in /usr/local/lib/python3.6/dist-packages (from awscli->-r requirements.txt (line 3)) (1.19.48)\n",
            "Requirement already satisfied: six>=1.5 in /usr/local/lib/python3.6/dist-packages (from python-dateutil>=2.7.3->pandas->-r requirements.txt (line 1)) (1.15.0)\n",
            "Requirement already satisfied: pyasn1>=0.1.3 in /usr/local/lib/python3.6/dist-packages (from rsa<=4.5.0,>=3.1.2->awscli->-r requirements.txt (line 3)) (0.4.8)\n",
            "Requirement already satisfied: jmespath<1.0.0,>=0.7.1 in /usr/local/lib/python3.6/dist-packages (from botocore==1.19.48->awscli->-r requirements.txt (line 3)) (0.10.0)\n"
          ],
          "name": "stdout"
        }
      ]
    },
    {
      "cell_type": "code",
      "metadata": {
        "colab": {
          "base_uri": "https://localhost:8080/"
        },
        "id": "20SD6agYVjt4",
        "outputId": "be7a1556-1cb7-49b9-f250-756b43cf1cb6"
      },
      "source": [
        "#Download training dataset of selected classes from Open Images  \n",
        "\n",
        "!python main.py downloader --classes Pig Fox Deer Cat Dog Skunk --type_csv train --limit 800 "
      ],
      "execution_count": null,
      "outputs": [
        {
          "output_type": "stream",
          "text": [
            "\u001b[92m\n",
            "\t\t   ___   _____  ______            _    _    \n",
            "\t\t .'   `.|_   _||_   _ `.         | |  | |   \n",
            "\t\t/  .-.  \\ | |    | | `. \\ _   __ | |__| |_  \n",
            "\t\t| |   | | | |    | |  | |[ \\ [  ]|____   _| \n",
            "\t\t\\  `-'  /_| |_  _| |_.' / \\ \\/ /     _| |_  \n",
            "\t\t `.___.'|_____||______.'   \\__/     |_____|\n",
            "\t\u001b[0m\n",
            "\u001b[92m\n",
            "             _____                    _                 _             \n",
            "            (____ \\                  | |               | |            \n",
            "             _   \\ \\ ___  _ _ _ ____ | | ___   ____  _ | | ____  ____ \n",
            "            | |   | / _ \\| | | |  _ \\| |/ _ \\ / _  |/ || |/ _  )/ ___)\n",
            "            | |__/ / |_| | | | | | | | | |_| ( ( | ( (_| ( (/ /| |    \n",
            "            |_____/ \\___/ \\____|_| |_|_|\\___/ \\_||_|\\____|\\____)_|    \n",
            "                                                          \n",
            "        \u001b[0m\n",
            "    [INFO] | Downloading Pig.\u001b[0m\n",
            "\u001b[91m   [ERROR] | Missing the class-descriptions-boxable.csv file.\u001b[0m\n",
            "\u001b[94m[DOWNLOAD] | Do you want to download the missing file? [Y/n] \u001b[0mY\n",
            "...145%, 0 MB, 61061 KB/s, 0 seconds passed\n",
            "\u001b[94m[DOWNLOAD] | File class-descriptions-boxable.csv downloaded into OID/csv_folder/class-descriptions-boxable.csv.\u001b[0m\n",
            "\u001b[91m   [ERROR] | Missing the train-annotations-bbox.csv file.\u001b[0m\n",
            "\u001b[94m[DOWNLOAD] | Do you want to download the missing file? [Y/n] \u001b[0mY\n",
            "...100%, 1138 MB, 44182 KB/s, 26 seconds passed\n",
            "\u001b[94m[DOWNLOAD] | File train-annotations-bbox.csv downloaded into OID/csv_folder/train-annotations-bbox.csv.\u001b[0m\n",
            "\n",
            "\u001b[95mPig\u001b[0m\n",
            "    [INFO] | Downloading train images.\u001b[0m\n",
            "    [INFO] | [INFO] Found 811 online images for train.\u001b[0m\n",
            "    [INFO] | Limiting to 800 images.\u001b[0m\n",
            "    [INFO] | Download of 800 images in train.\u001b[0m\n",
            "100% 800/800 [07:02<00:00,  1.89it/s]\n",
            "    [INFO] | Done!\u001b[0m\n",
            "    [INFO] | Creating labels for Pig of train.\u001b[0m\n",
            "    [INFO] | Labels creation completed.\u001b[0m\n",
            "    [INFO] | Downloading Fox.\u001b[0m\n",
            "\n",
            "\u001b[95mFox\u001b[0m\n",
            "    [INFO] | Downloading train images.\u001b[0m\n",
            "    [INFO] | [INFO] Found 484 online images for train.\u001b[0m\n",
            "    [INFO] | Limiting to 800 images.\u001b[0m\n",
            "    [INFO] | Download of 484 images in train.\u001b[0m\n",
            "100% 484/484 [03:55<00:00,  2.05it/s]\n",
            "    [INFO] | Done!\u001b[0m\n",
            "    [INFO] | Creating labels for Fox of train.\u001b[0m\n",
            "    [INFO] | Labels creation completed.\u001b[0m\n",
            "    [INFO] | Downloading Deer.\u001b[0m\n",
            "\n",
            "\u001b[95mDeer\u001b[0m\n",
            "    [INFO] | Downloading train images.\u001b[0m\n",
            "    [INFO] | [INFO] Found 2093 online images for train.\u001b[0m\n",
            "    [INFO] | Limiting to 800 images.\u001b[0m\n",
            "    [INFO] | Download of 800 images in train.\u001b[0m\n",
            "100% 800/800 [06:19<00:00,  2.11it/s]\n",
            "    [INFO] | Done!\u001b[0m\n",
            "    [INFO] | Creating labels for Deer of train.\u001b[0m\n",
            "    [INFO] | Labels creation completed.\u001b[0m\n",
            "    [INFO] | Downloading Cat.\u001b[0m\n",
            "\n",
            "\u001b[95mCat\u001b[0m\n",
            "    [INFO] | Downloading train images.\u001b[0m\n",
            "    [INFO] | [INFO] Found 12516 online images for train.\u001b[0m\n",
            "    [INFO] | Limiting to 800 images.\u001b[0m\n",
            "    [INFO] | Download of 800 images in train.\u001b[0m\n",
            "100% 800/800 [06:12<00:00,  2.15it/s]\n",
            "    [INFO] | Done!\u001b[0m\n",
            "    [INFO] | Creating labels for Cat of train.\u001b[0m\n",
            "    [INFO] | Labels creation completed.\u001b[0m\n",
            "    [INFO] | Downloading Dog.\u001b[0m\n",
            "\n",
            "\u001b[95mDog\u001b[0m\n",
            "    [INFO] | Downloading train images.\u001b[0m\n",
            "    [INFO] | [INFO] Found 20607 online images for train.\u001b[0m\n",
            "    [INFO] | Limiting to 800 images.\u001b[0m\n",
            "    [INFO] | Download of 800 images in train.\u001b[0m\n",
            "100% 800/800 [06:05<00:00,  2.19it/s]\n",
            "    [INFO] | Done!\u001b[0m\n",
            "    [INFO] | Creating labels for Dog of train.\u001b[0m\n",
            "    [INFO] | Labels creation completed.\u001b[0m\n",
            "    [INFO] | Downloading Skunk.\u001b[0m\n",
            "\n",
            "\u001b[95mSkunk\u001b[0m\n",
            "    [INFO] | Downloading train images.\u001b[0m\n",
            "    [INFO] | [INFO] Found 39 online images for train.\u001b[0m\n",
            "    [INFO] | Limiting to 800 images.\u001b[0m\n",
            "    [INFO] | Download of 39 images in train.\u001b[0m\n",
            "100% 39/39 [00:19<00:00,  1.99it/s]\n",
            "    [INFO] | Done!\u001b[0m\n",
            "    [INFO] | Creating labels for Skunk of train.\u001b[0m\n",
            "    [INFO] | Labels creation completed.\u001b[0m\n"
          ],
          "name": "stdout"
        }
      ]
    },
    {
      "cell_type": "code",
      "metadata": {
        "colab": {
          "base_uri": "https://localhost:8080/"
        },
        "id": "Uaz4i0zNVjzD",
        "outputId": "ffef0935-43b7-4e3d-d607-f47bb27854b1"
      },
      "source": [
        "#Download training dataset of selected classes from Open Images \n",
        "!python main.py downloader --classes Pig Fox Deer Cat Dog Skunk --type_csv test --limit 100"
      ],
      "execution_count": null,
      "outputs": [
        {
          "output_type": "stream",
          "text": [
            "\u001b[92m\n",
            "\t\t   ___   _____  ______            _    _    \n",
            "\t\t .'   `.|_   _||_   _ `.         | |  | |   \n",
            "\t\t/  .-.  \\ | |    | | `. \\ _   __ | |__| |_  \n",
            "\t\t| |   | | | |    | |  | |[ \\ [  ]|____   _| \n",
            "\t\t\\  `-'  /_| |_  _| |_.' / \\ \\/ /     _| |_  \n",
            "\t\t `.___.'|_____||______.'   \\__/     |_____|\n",
            "\t\u001b[0m\n",
            "\u001b[92m\n",
            "             _____                    _                 _             \n",
            "            (____ \\                  | |               | |            \n",
            "             _   \\ \\ ___  _ _ _ ____ | | ___   ____  _ | | ____  ____ \n",
            "            | |   | / _ \\| | | |  _ \\| |/ _ \\ / _  |/ || |/ _  )/ ___)\n",
            "            | |__/ / |_| | | | | | | | | |_| ( ( | ( (_| ( (/ /| |    \n",
            "            |_____/ \\___/ \\____|_| |_|_|\\___/ \\_||_|\\____|\\____)_|    \n",
            "                                                          \n",
            "        \u001b[0m\n",
            "    [INFO] | Downloading Pig.\u001b[0m\n",
            "\u001b[91m   [ERROR] | Missing the test-annotations-bbox.csv file.\u001b[0m\n",
            "\u001b[94m[DOWNLOAD] | Do you want to download the missing file? [Y/n] \u001b[0mY\n",
            "...100%, 49 MB, 49303 KB/s, 1 seconds passed\n",
            "\u001b[94m[DOWNLOAD] | File test-annotations-bbox.csv downloaded into OID/csv_folder/test-annotations-bbox.csv.\u001b[0m\n",
            "\n",
            "\u001b[95mPig\u001b[0m\n",
            "    [INFO] | Downloading test images.\u001b[0m\n",
            "    [INFO] | [INFO] Found 126 online images for test.\u001b[0m\n",
            "    [INFO] | Limiting to 100 images.\u001b[0m\n",
            "    [INFO] | Download of 100 images in test.\u001b[0m\n",
            "100% 100/100 [01:00<00:00,  1.64it/s]\n",
            "    [INFO] | Done!\u001b[0m\n",
            "    [INFO] | Creating labels for Pig of test.\u001b[0m\n",
            "    [INFO] | Labels creation completed.\u001b[0m\n",
            "    [INFO] | Downloading Fox.\u001b[0m\n",
            "\n",
            "\u001b[95mFox\u001b[0m\n",
            "    [INFO] | Downloading test images.\u001b[0m\n",
            "    [INFO] | [INFO] Found 76 online images for test.\u001b[0m\n",
            "    [INFO] | Limiting to 100 images.\u001b[0m\n",
            "    [INFO] | Download of 76 images in test.\u001b[0m\n",
            "100% 76/76 [00:48<00:00,  1.56it/s]\n",
            "    [INFO] | Done!\u001b[0m\n",
            "    [INFO] | Creating labels for Fox of test.\u001b[0m\n",
            "    [INFO] | Labels creation completed.\u001b[0m\n",
            "    [INFO] | Downloading Deer.\u001b[0m\n",
            "\n",
            "\u001b[95mDeer\u001b[0m\n",
            "    [INFO] | Downloading test images.\u001b[0m\n",
            "    [INFO] | [INFO] Found 280 online images for test.\u001b[0m\n",
            "    [INFO] | Limiting to 100 images.\u001b[0m\n",
            "    [INFO] | Download of 100 images in test.\u001b[0m\n",
            "100% 100/100 [01:03<00:00,  1.58it/s]\n",
            "    [INFO] | Done!\u001b[0m\n",
            "    [INFO] | Creating labels for Deer of test.\u001b[0m\n",
            "    [INFO] | Labels creation completed.\u001b[0m\n",
            "    [INFO] | Downloading Cat.\u001b[0m\n",
            "\n",
            "\u001b[95mCat\u001b[0m\n",
            "    [INFO] | Downloading test images.\u001b[0m\n",
            "    [INFO] | [INFO] Found 982 online images for test.\u001b[0m\n",
            "    [INFO] | Limiting to 100 images.\u001b[0m\n",
            "    [INFO] | Download of 100 images in test.\u001b[0m\n",
            "100% 100/100 [00:57<00:00,  1.73it/s]\n",
            "    [INFO] | Done!\u001b[0m\n",
            "    [INFO] | Creating labels for Cat of test.\u001b[0m\n",
            "    [INFO] | Labels creation completed.\u001b[0m\n",
            "    [INFO] | Downloading Dog.\u001b[0m\n",
            "\n",
            "\u001b[95mDog\u001b[0m\n",
            "    [INFO] | Downloading test images.\u001b[0m\n",
            "    [INFO] | [INFO] Found 4810 online images for test.\u001b[0m\n",
            "    [INFO] | Limiting to 100 images.\u001b[0m\n",
            "    [INFO] | Download of 100 images in test.\u001b[0m\n",
            "100% 100/100 [00:59<00:00,  1.68it/s]\n",
            "    [INFO] | Done!\u001b[0m\n",
            "    [INFO] | Creating labels for Dog of test.\u001b[0m\n",
            "    [INFO] | Labels creation completed.\u001b[0m\n",
            "    [INFO] | Downloading Skunk.\u001b[0m\n",
            "\n",
            "\u001b[95mSkunk\u001b[0m\n",
            "    [INFO] | Downloading test images.\u001b[0m\n",
            "    [INFO] | [INFO] Found 18 online images for test.\u001b[0m\n",
            "    [INFO] | Limiting to 100 images.\u001b[0m\n",
            "    [INFO] | Download of 18 images in test.\u001b[0m\n",
            "100% 18/18 [00:12<00:00,  1.45it/s]\n",
            "    [INFO] | Done!\u001b[0m\n",
            "    [INFO] | Creating labels for Skunk of test.\u001b[0m\n",
            "    [INFO] | Labels creation completed.\u001b[0m\n"
          ],
          "name": "stdout"
        }
      ]
    },
    {
      "cell_type": "code",
      "metadata": {
        "colab": {
          "base_uri": "https://localhost:8080/"
        },
        "id": "pXjFO6_GVj1G",
        "outputId": "9304e507-f201-47a9-aece-7cb8839f910a"
      },
      "source": [
        "#Download training dataset of selected classes from Open Images \n",
        "!python main.py downloader --classes Pig Fox Deer Cat Dog Skunk --type_csv validation --limit 100 "
      ],
      "execution_count": null,
      "outputs": [
        {
          "output_type": "stream",
          "text": [
            "\u001b[92m\n",
            "\t\t   ___   _____  ______            _    _    \n",
            "\t\t .'   `.|_   _||_   _ `.         | |  | |   \n",
            "\t\t/  .-.  \\ | |    | | `. \\ _   __ | |__| |_  \n",
            "\t\t| |   | | | |    | |  | |[ \\ [  ]|____   _| \n",
            "\t\t\\  `-'  /_| |_  _| |_.' / \\ \\/ /     _| |_  \n",
            "\t\t `.___.'|_____||______.'   \\__/     |_____|\n",
            "\t\u001b[0m\n",
            "\u001b[92m\n",
            "             _____                    _                 _             \n",
            "            (____ \\                  | |               | |            \n",
            "             _   \\ \\ ___  _ _ _ ____ | | ___   ____  _ | | ____  ____ \n",
            "            | |   | / _ \\| | | |  _ \\| |/ _ \\ / _  |/ || |/ _  )/ ___)\n",
            "            | |__/ / |_| | | | | | | | | |_| ( ( | ( (_| ( (/ /| |    \n",
            "            |_____/ \\___/ \\____|_| |_|_|\\___/ \\_||_|\\____|\\____)_|    \n",
            "                                                          \n",
            "        \u001b[0m\n",
            "    [INFO] | Downloading Pig.\u001b[0m\n",
            "\u001b[91m   [ERROR] | Missing the validation-annotations-bbox.csv file.\u001b[0m\n",
            "\u001b[94m[DOWNLOAD] | Do you want to download the missing file? [Y/n] \u001b[0mY\n",
            "...100%, 16 MB, 50687 KB/s, 0 seconds passed\n",
            "\u001b[94m[DOWNLOAD] | File validation-annotations-bbox.csv downloaded into OID/csv_folder/validation-annotations-bbox.csv.\u001b[0m\n",
            "\n",
            "\u001b[95mPig\u001b[0m\n",
            "    [INFO] | Downloading validation images.\u001b[0m\n",
            "    [INFO] | [INFO] Found 46 online images for validation.\u001b[0m\n",
            "    [INFO] | Limiting to 100 images.\u001b[0m\n",
            "    [INFO] | Download of 46 images in validation.\u001b[0m\n",
            "100% 46/46 [00:33<00:00,  1.36it/s]\n",
            "    [INFO] | Done!\u001b[0m\n",
            "    [INFO] | Creating labels for Pig of validation.\u001b[0m\n",
            "    [INFO] | Labels creation completed.\u001b[0m\n",
            "    [INFO] | Downloading Fox.\u001b[0m\n",
            "\n",
            "\u001b[95mFox\u001b[0m\n",
            "    [INFO] | Downloading validation images.\u001b[0m\n",
            "    [INFO] | [INFO] Found 35 online images for validation.\u001b[0m\n",
            "    [INFO] | Limiting to 100 images.\u001b[0m\n",
            "    [INFO] | Download of 35 images in validation.\u001b[0m\n",
            "100% 35/35 [00:24<00:00,  1.46it/s]\n",
            "    [INFO] | Done!\u001b[0m\n",
            "    [INFO] | Creating labels for Fox of validation.\u001b[0m\n",
            "    [INFO] | Labels creation completed.\u001b[0m\n",
            "    [INFO] | Downloading Deer.\u001b[0m\n",
            "\n",
            "\u001b[95mDeer\u001b[0m\n",
            "    [INFO] | Downloading validation images.\u001b[0m\n",
            "    [INFO] | [INFO] Found 83 online images for validation.\u001b[0m\n",
            "    [INFO] | Limiting to 100 images.\u001b[0m\n",
            "    [INFO] | Download of 83 images in validation.\u001b[0m\n",
            "100% 83/83 [00:50<00:00,  1.64it/s]\n",
            "    [INFO] | Done!\u001b[0m\n",
            "    [INFO] | Creating labels for Deer of validation.\u001b[0m\n",
            "    [INFO] | Labels creation completed.\u001b[0m\n",
            "    [INFO] | Downloading Cat.\u001b[0m\n",
            "\n",
            "\u001b[95mCat\u001b[0m\n",
            "    [INFO] | Downloading validation images.\u001b[0m\n",
            "    [INFO] | [INFO] Found 337 online images for validation.\u001b[0m\n",
            "    [INFO] | Limiting to 100 images.\u001b[0m\n",
            "    [INFO] | Download of 100 images in validation.\u001b[0m\n",
            "100% 100/100 [01:02<00:00,  1.59it/s]\n",
            "    [INFO] | Done!\u001b[0m\n",
            "    [INFO] | Creating labels for Cat of validation.\u001b[0m\n",
            "    [INFO] | Labels creation completed.\u001b[0m\n",
            "    [INFO] | Downloading Dog.\u001b[0m\n",
            "\n",
            "\u001b[95mDog\u001b[0m\n",
            "    [INFO] | Downloading validation images.\u001b[0m\n",
            "    [INFO] | [INFO] Found 1581 online images for validation.\u001b[0m\n",
            "    [INFO] | Limiting to 100 images.\u001b[0m\n",
            "    [INFO] | Download of 100 images in validation.\u001b[0m\n",
            "100% 100/100 [01:01<00:00,  1.64it/s]\n",
            "    [INFO] | Done!\u001b[0m\n",
            "    [INFO] | Creating labels for Dog of validation.\u001b[0m\n",
            "    [INFO] | Labels creation completed.\u001b[0m\n",
            "    [INFO] | Downloading Skunk.\u001b[0m\n",
            "\n",
            "\u001b[95mSkunk\u001b[0m\n",
            "    [INFO] | Downloading validation images.\u001b[0m\n",
            "    [INFO] | [INFO] Found 3 online images for validation.\u001b[0m\n",
            "    [INFO] | Limiting to 100 images.\u001b[0m\n",
            "    [INFO] | Download of 3 images in validation.\u001b[0m\n",
            "100% 3/3 [00:07<00:00,  2.43s/it]\n",
            "    [INFO] | Done!\u001b[0m\n",
            "    [INFO] | Creating labels for Skunk of validation.\u001b[0m\n",
            "    [INFO] | Labels creation completed.\u001b[0m\n"
          ],
          "name": "stdout"
        }
      ]
    },
    {
      "cell_type": "code",
      "metadata": {
        "id": "MWibcD3DVj3e"
      },
      "source": [
        "# Convert the Labels and Box Coordinates to YOLOv4 Format"
      ],
      "execution_count": null,
      "outputs": []
    },
    {
      "cell_type": "code",
      "metadata": {
        "colab": {
          "base_uri": "https://localhost:8080/"
        },
        "id": "VckyTn_6Vj5q",
        "outputId": "948a1777-3a44-41b8-c1c0-a624265d9481"
      },
      "source": [
        ""
      ],
      "execution_count": null,
      "outputs": [
        {
          "output_type": "stream",
          "text": [
            "Currently in subdirectory: validation\n",
            "Converting annotations for class:  Pig\n",
            "100% 46/46 [00:03<00:00, 13.33it/s]\n",
            "Converting annotations for class:  Cat\n",
            "100% 100/100 [00:01<00:00, 50.13it/s]\n",
            "Converting annotations for class:  Dog\n",
            "  0% 0/100 [00:00<?, ?it/s]\n",
            "Traceback (most recent call last):\n",
            "  File \"convert_annotations.py\", line 63, in <module>\n",
            "    coords = np.asarray([float(labels[1]), float(labels[2]), float(labels[3]), float(labels[4])])\n",
            "IndexError: list index out of range\n"
          ],
          "name": "stdout"
        }
      ]
    },
    {
      "cell_type": "code",
      "metadata": {
        "id": "U3CV1Q0eVj7t"
      },
      "source": [
        ""
      ],
      "execution_count": null,
      "outputs": []
    },
    {
      "cell_type": "code",
      "metadata": {
        "colab": {
          "base_uri": "https://localhost:8080/",
          "height": 35
        },
        "id": "Y0QRIcG8Vj-L",
        "outputId": "09a7e120-cbc7-4972-c74c-c5bda1e83a79"
      },
      "source": [
        "%pwd"
      ],
      "execution_count": null,
      "outputs": [
        {
          "output_type": "execute_result",
          "data": {
            "application/vnd.google.colaboratory.intrinsic+json": {
              "type": "string"
            },
            "text/plain": [
              "'/content/OIDv4_ToolKit'"
            ]
          },
          "metadata": {
            "tags": []
          },
          "execution_count": 18
        }
      ]
    },
    {
      "cell_type": "code",
      "metadata": {
        "colab": {
          "base_uri": "https://localhost:8080/"
        },
        "id": "PMmklQ5OVkAh",
        "outputId": "2a20e5f2-cd6b-403e-91fe-152c45268a00"
      },
      "source": [
        "#Within the root OIDv4_ToolKit folder open the file classes.txt\n",
        "#edit it to have the classes you just downloaded, one per line.\n",
        "\n",
        "#Now we are setup to convert to YOLOv4 format\n",
        "!python convert_annotations.py"
      ],
      "execution_count": null,
      "outputs": [
        {
          "output_type": "stream",
          "text": [
            "Currently in subdirectory: validation\n",
            "Converting annotations for class:  Pig\n",
            "100% 46/46 [00:03<00:00, 13.53it/s]\n",
            "Converting annotations for class:  Cat\n",
            "100% 100/100 [00:01<00:00, 52.37it/s]\n",
            "Converting annotations for class:  Dog\n",
            "100% 99/99 [00:01<00:00, 52.51it/s]\n",
            "Converting annotations for class:  Skunk\n",
            "100% 3/3 [00:00<00:00, 56.62it/s]\n",
            "Converting annotations for class:  Deer\n",
            "100% 83/83 [00:01<00:00, 42.49it/s]\n",
            "Converting annotations for class:  Fox\n",
            "100% 35/35 [00:00<00:00, 62.51it/s]\n",
            "Currently in subdirectory: train\n",
            "Converting annotations for class:  Pig\n",
            "100% 800/800 [00:24<00:00, 32.47it/s]\n",
            "Converting annotations for class:  Cat\n",
            "100% 800/800 [00:13<00:00, 57.99it/s]\n",
            "Converting annotations for class:  Dog\n",
            "100% 800/800 [00:15<00:00, 53.18it/s]\n",
            "Converting annotations for class:  Skunk\n",
            "100% 39/39 [00:00<00:00, 48.95it/s]\n",
            "Converting annotations for class:  Deer\n",
            "100% 800/800 [00:21<00:00, 37.01it/s]\n",
            "Converting annotations for class:  Fox\n",
            "100% 484/484 [00:08<00:00, 55.78it/s]\n",
            "Currently in subdirectory: test\n",
            "Converting annotations for class:  Pig\n",
            "100% 100/100 [00:02<00:00, 42.17it/s]\n",
            "Converting annotations for class:  Cat\n",
            "100% 100/100 [00:01<00:00, 62.51it/s]\n",
            "Converting annotations for class:  Dog\n",
            "100% 100/100 [00:01<00:00, 64.41it/s]\n",
            "Converting annotations for class:  Skunk\n",
            "100% 18/18 [00:00<00:00, 56.18it/s]\n",
            "Converting annotations for class:  Deer\n",
            "100% 100/100 [00:02<00:00, 39.56it/s]\n",
            "Converting annotations for class:  Fox\n",
            "100% 76/76 [00:01<00:00, 60.71it/s]\n"
          ],
          "name": "stdout"
        }
      ]
    },
    {
      "cell_type": "code",
      "metadata": {
        "id": "PULJ8SG4VkIG"
      },
      "source": [
        "# Manually delete old label folders after converting annotations\n",
        "!rm -r OID/Dataset/test/Cat/Label/\n",
        "!rm -r OID/Dataset/test/Deer//Label/\n",
        "!rm -r OID/Dataset/test/Dog/Label/\n",
        "!rm -r OID/Dataset/test/Fox/Label/\n",
        "!rm -r OID/Dataset/test/Pig/Label/\n",
        "!rm -r OID/Dataset/test/Skunk/Label/\n",
        "!rm -r OID/Dataset/train/Cat/Label/\n",
        "!rm -r OID/Dataset/train/Deer//Label/\n",
        "!rm -r OID/Dataset/train/Dog/Label/\n",
        "!rm -r OID/Dataset/train/Fox/Label/\n",
        "!rm -r OID/Dataset/train/Pig/Label/\n",
        "!rm -r OID/Dataset/train/Skunk/Label/\n",
        "!rm -r OID/Dataset/validation/Cat/Label/\n",
        "!rm -r OID/Dataset/validation/Deer//Label/\n",
        "!rm -r OID/Dataset/validation/Dog/Label/\n",
        "!rm -r OID/Dataset/validation/Fox/Label/\n",
        "!rm -r OID/Dataset/validation/Pig/Label/\n",
        "!rm -r OID/Dataset/validation/Skunk/Label/\n"
      ],
      "execution_count": null,
      "outputs": []
    },
    {
      "cell_type": "code",
      "metadata": {
        "colab": {
          "base_uri": "https://localhost:8080/",
          "height": 35
        },
        "id": "yim0vh19qi5_",
        "outputId": "c515d501-2a18-40a4-b507-12325b369a9b"
      },
      "source": [
        "%pwd"
      ],
      "execution_count": null,
      "outputs": [
        {
          "output_type": "execute_result",
          "data": {
            "application/vnd.google.colaboratory.intrinsic+json": {
              "type": "string"
            },
            "text/plain": [
              "'/content'"
            ]
          },
          "metadata": {
            "tags": []
          },
          "execution_count": 6
        }
      ]
    },
    {
      "cell_type": "code",
      "metadata": {
        "id": "Uw-56tFoaTAp",
        "colab": {
          "base_uri": "https://localhost:8080/",
          "height": 282
        },
        "outputId": "dbdcf3b8-442e-40aa-d25a-c5e4f4b2f381"
      },
      "source": [
        "#Custom dataset info(6 classes gathered from Open Images)\n",
        "\n",
        "d_classes = {'Class Names': ['Pig', 'Deer', 'Cat', 'Dog','Fox', 'Skunk', 'Pig', 'Deer', 'Cat','Dog','Fox','Skunk'],\n",
        "         'Counts': [800, 800, 800, 800, 484, 39, 100, 100, 100, 100, 76, 18],\n",
        "         'Type': ['Train','Train','Train','Train','Train','Train','Test', 'Test','Test','Test','Test','Test']}\n",
        "          \n",
        "classes_df = pd.DataFrame(d_classes) \n",
        "\n",
        "sns.barplot(x = 'Class Names', y = 'Counts', hue = 'Type', data = classes_df);\n",
        "\n"
      ],
      "execution_count": 2,
      "outputs": [
        {
          "output_type": "display_data",
          "data": {
            "image/png": "[encoded data removed]",
            "text/plain": [
              "<Figure size 432x288 with 1 Axes>"
            ]
          },
          "metadata": {
            "tags": [],
            "needs_background": "light"
          }
        }
      ]
    },
    {
      "cell_type": "code",
      "metadata": {
        "id": "BaZWFETNZzTY"
      },
      "source": [
        ""
      ],
      "execution_count": 2,
      "outputs": []
    },
    {
      "cell_type": "code",
      "metadata": {
        "id": "PY4WF2PQIOe3"
      },
      "source": [
        ""
      ],
      "execution_count": null,
      "outputs": []
    }
  ]
}